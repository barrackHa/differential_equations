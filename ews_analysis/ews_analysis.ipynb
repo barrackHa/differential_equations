{
 "cells": [
  {
   "cell_type": "code",
   "execution_count": null,
   "metadata": {},
   "outputs": [],
   "source": [
    "%matplotlib widget\n",
    "import numpy as np\n",
    "import matplotlib.pyplot as plt\n",
    "from scipy.stats import linregress\n",
    "from tqdm import tqdm\n",
    "\n",
    "import sys\n",
    "import os\n",
    "\n",
    "module_path = os.path.abspath(os.path.join('..'))\n",
    "if module_path not in sys.path:\n",
    "    sys.path.append(module_path)\n",
    "\n",
    "from ews_analysis import hopf_helper as hh\n",
    "from ews_analysis.saddlenode_ews import dSdt as sd_model\n",
    "from ews_analysis.pitchfork_helper import *\n",
    "from ews_helper import get_ews, itoEulerMaruyama\n",
    "\n",
    "from scipy.integrate import odeint, solve_ivp\n"
   ]
  },
  {
   "cell_type": "code",
   "execution_count": null,
   "metadata": {},
   "outputs": [],
   "source": [
    "def plot_bif_sim(fig, axs, time, results, derivatives):\n",
    "\n",
    "    if not isinstance(axs, np.ndarray):\n",
    "        axs = np.array([axs])\n",
    "    \n",
    "    axs[0].plot(time, results[:,0])\n",
    "    axs[0].set_xlabel('Time')\n",
    "    # make ax grey\n",
    "    axs[0].set_facecolor(plt.cm.gray(.85))\n",
    "\n",
    "    # plot t_star, where r(t) = 0 = r0 + epsilon*t \n",
    "    t_star = time[np.where(results[:,1] >= 0)[0][0]]\n",
    "    axs[0].axvline(t_star, c='r', ls='--') #label=f't*={t_star:.2f}'\n",
    "\n",
    "    # ax.set_ylim(-20, 70)\n",
    "    # axs[0].legend()\n",
    "    axs[0].grid()\n",
    "    return fig, axs, t_star"
   ]
  },
  {
   "cell_type": "code",
   "execution_count": null,
   "metadata": {},
   "outputs": [],
   "source": [
    "f = np.load('tmp_figs/sd_bif_sim.npz')\n",
    "time=f['time'] \n",
    "results=f['results']\n",
    "derivatives=f['derivatives']\n",
    "\n",
    "fig, axs = plt.subplots(1)\n",
    "fig, axs, t_star = plot_bif_sim(fig, axs, time, results, derivatives)"
   ]
  },
  {
   "cell_type": "code",
   "execution_count": null,
   "metadata": {},
   "outputs": [],
   "source": [
    "\"\"\"\n",
    "time = np.arange(0, 9, 0.001)\n",
    "r0 = -3\n",
    "x0 = 0.1\n",
    "a = 80\n",
    "epsilon = 1.5\n",
    "sigma = 0.33\n",
    "\"\"\"\n",
    "\n",
    "win_size = ews_win_size = 301\n",
    "offset = ews_offset = 101\n",
    "\n",
    "print(time.shape)\n",
    "\n",
    "block_idxs, ar1s, decays, vars = get_ews(\n",
    "    time, results[:,0], win_size=win_size, offset=offset\n",
    ")\n",
    "\n",
    "ews_fig, ews_axs = plt.subplots(2,1)\n",
    "\n",
    "# Plot AR1s\n",
    "ews_axs[0].plot(time[block_idxs[:len(ar1s)]], ar1s)\n",
    "ews_axs[0].axvline(\n",
    "    t_star, color='r', linestyle='--', \n",
    "    alpha=0.5, label='x=0'\n",
    ")\n",
    "\n",
    "# Plot Decays\n",
    "ews_axs[1].plot(time[block_idxs[:len(decays)]], decays)\n",
    "ews_axs[1].axvline(\n",
    "    t_star, color='r', linestyle='--', \n",
    "    alpha=0.5, label='x=0'\n",
    ")"
   ]
  }
 ],
 "metadata": {
  "kernelspec": {
   "display_name": "qtm",
   "language": "python",
   "name": "python3"
  },
  "language_info": {
   "codemirror_mode": {
    "name": "ipython",
    "version": 3
   },
   "file_extension": ".py",
   "mimetype": "text/x-python",
   "name": "python",
   "nbconvert_exporter": "python",
   "pygments_lexer": "ipython3",
   "version": "3.8.11"
  },
  "orig_nbformat": 4
 },
 "nbformat": 4,
 "nbformat_minor": 2
}
